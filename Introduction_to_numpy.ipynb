{
  "nbformat": 4,
  "nbformat_minor": 0,
  "metadata": {
    "colab": {
      "provenance": [],
      "authorship_tag": "ABX9TyNbzRwyYvrLYr3RjfodQclS",
      "include_colab_link": true
    },
    "kernelspec": {
      "name": "python3",
      "display_name": "Python 3"
    },
    "language_info": {
      "name": "python"
    }
  },
  "cells": [
    {
      "cell_type": "markdown",
      "metadata": {
        "id": "view-in-github",
        "colab_type": "text"
      },
      "source": [
        "<a href=\"https://colab.research.google.com/github/D-Lakshmi-Priya/numpy/blob/main/Introduction_to_numpy.ipynb\" target=\"_parent\"><img src=\"https://colab.research.google.com/assets/colab-badge.svg\" alt=\"Open In Colab\"/></a>"
      ]
    },
    {
      "cell_type": "code",
      "execution_count": null,
      "metadata": {
        "colab": {
          "base_uri": "https://localhost:8080/"
        },
        "id": "EyXqWwlxtPxc",
        "outputId": "313e40dd-3ee6-45be-b5ed-473df35c19cc"
      },
      "outputs": [
        {
          "output_type": "stream",
          "name": "stdout",
          "text": [
            "Requirement already satisfied: numpy in /usr/local/lib/python3.11/dist-packages (1.26.4)\n"
          ]
        }
      ],
      "source": [
        "!pip3 install numpy"
      ]
    },
    {
      "cell_type": "code",
      "source": [
        "import numpy as np"
      ],
      "metadata": {
        "id": "fTHobxdktfh2"
      },
      "execution_count": null,
      "outputs": []
    },
    {
      "cell_type": "code",
      "source": [
        "# Create a numpy array\n",
        "# 1D array\n",
        "\n",
        "arr1D = np.array([1,2,3,4,5])\n",
        "print(arr1D)"
      ],
      "metadata": {
        "colab": {
          "base_uri": "https://localhost:8080/"
        },
        "id": "_QZ0dyLqtfk_",
        "outputId": "144ce18a-b89a-405f-8be5-c349c45c6653"
      },
      "execution_count": null,
      "outputs": [
        {
          "output_type": "stream",
          "name": "stdout",
          "text": [
            "[1 2 3 4 5]\n"
          ]
        }
      ]
    },
    {
      "cell_type": "code",
      "source": [
        "# Creating 2D array - Matrix\n",
        "arr2D = np.array([\n",
        "[1,2,3],[4,5,6]\n",
        "])\n",
        "print(arr2D)"
      ],
      "metadata": {
        "colab": {
          "base_uri": "https://localhost:8080/"
        },
        "id": "iAQcC_iMtfoP",
        "outputId": "b217b597-4fd0-4e27-bd48-93cd7ade4373"
      },
      "execution_count": null,
      "outputs": [
        {
          "output_type": "stream",
          "name": "stdout",
          "text": [
            "[[1 2 3]\n",
            " [4 5 6]]\n"
          ]
        }
      ]
    },
    {
      "cell_type": "code",
      "source": [
        "# Creating arrays with default values\n",
        "\n",
        "# Creating Matrix with all values of elements as '0'\n",
        "allZeros = np.zeros((2,3))\n",
        "print(allZeros)\n",
        "\n",
        "# Creating Matrix with all values of elements as '1'\n",
        "allOnes = np.ones((2,3))\n",
        "print(allOnes)\n",
        "\n",
        "# Creating Matrix with all values of elements as 'Constant values - n ~ Fill value'\n",
        "allConstant = np.full((2,3),6)\n",
        "print(allConstant)"
      ],
      "metadata": {
        "colab": {
          "base_uri": "https://localhost:8080/"
        },
        "id": "_ntUykwLtfrL",
        "outputId": "e0911d2e-6979-43f7-ac02-c41096889ee7"
      },
      "execution_count": null,
      "outputs": [
        {
          "output_type": "stream",
          "name": "stdout",
          "text": [
            "[[0. 0. 0.]\n",
            " [0. 0. 0.]]\n",
            "[[1. 1. 1.]\n",
            " [1. 1. 1.]]\n",
            "[[6 6 6]\n",
            " [6 6 6]]\n"
          ]
        }
      ]
    },
    {
      "cell_type": "code",
      "source": [
        "# Create an Identity Matrix - I\n",
        "\n",
        "identity = np.eye(4)\n",
        "print(identity)\n",
        "\n",
        "# Indentity Matrix - Aii = 1 && Aij = 0\n",
        "# For all A Belongs to R MxN\n",
        "# Aij -"
      ],
      "metadata": {
        "colab": {
          "base_uri": "https://localhost:8080/"
        },
        "id": "5i7TdgZptfux",
        "outputId": "95021523-8d60-4baf-f462-93e0a4200891"
      },
      "execution_count": null,
      "outputs": [
        {
          "output_type": "stream",
          "name": "stdout",
          "text": [
            "[[1. 0. 0. 0.]\n",
            " [0. 1. 0. 0.]\n",
            " [0. 0. 1. 0.]\n",
            " [0. 0. 0. 1.]]\n"
          ]
        }
      ]
    },
    {
      "cell_type": "code",
      "source": [
        "# Creating random Matrices\n",
        "\n",
        "# with 0 & 1\n",
        "rand1 = np.random.rand(3,3)\n",
        "print(rand1)\n",
        "\n",
        "# between a and b\n",
        "rand2 = np.random.randint(10,20,(3,3))\n",
        "print(rand2)"
      ],
      "metadata": {
        "colab": {
          "base_uri": "https://localhost:8080/"
        },
        "id": "rQJx5OZxtfzL",
        "outputId": "d32e485b-17b3-4353-b0b9-de58f67a9dd1"
      },
      "execution_count": null,
      "outputs": [
        {
          "output_type": "stream",
          "name": "stdout",
          "text": [
            "[[0.0235254  0.13149137 0.80879369]\n",
            " [0.70545253 0.58427955 0.75269686]\n",
            " [0.22489789 0.08784027 0.56375555]]\n",
            "[[10 16 14]\n",
            " [15 14 11]\n",
            " [13 18 16]]\n"
          ]
        }
      ]
    },
    {
      "cell_type": "code",
      "source": [
        "# Array Properties\n",
        "arr = np.array([[1,2,3,4],[3,4,5,6]])\n",
        "print(arr)\n",
        "\n",
        "# Shape of array\n",
        "print(f'\\nThe shape of the array is {arr.shape}')\n",
        "\n",
        "# Size of array\n",
        "print(f'The size of the array is {arr.size}')\n",
        "\n",
        "# Datatype of array\n",
        "print(f'The Data type of the array is {arr.dtype}')\n",
        "\n",
        "# Dimensions of array\n",
        "print(f'The Dimension of the array is {arr.ndim}')"
      ],
      "metadata": {
        "colab": {
          "base_uri": "https://localhost:8080/"
        },
        "id": "11UdoY5Uted_",
        "outputId": "ad6e5e93-7bd2-465b-c0f9-6fa0043989b0"
      },
      "execution_count": null,
      "outputs": [
        {
          "output_type": "stream",
          "name": "stdout",
          "text": [
            "[[1 2 3 4]\n",
            " [3 4 5 6]]\n",
            "\n",
            "The shape of the array is (2, 4)\n",
            "The size of the array is 8\n",
            "The Data type of the array is int64\n",
            "The Dimension of the array is 2\n"
          ]
        }
      ]
    },
    {
      "cell_type": "code",
      "source": [
        "# Indexing and Slicing\n",
        "\n",
        "# Access the elements in ID Array\n",
        "\n",
        "arr = np.array([1,2,3,8])\n",
        "print(arr)\n",
        "print(arr[2])\n",
        "\n",
        "# Slicing the elements\n",
        "\n",
        "print(arr[0:3])\n",
        "\n",
        "# Access the elements in 2D Array\n",
        "arr2 = np.array([[1,2,3],[4,5,6]])\n",
        "print(arr2)\n",
        "print(arr2[1,2])\n",
        "\n",
        " # first row with all columns\n",
        "print(arr2[0,:])\n",
        "\n",
        "# first column with all rows\n",
        "print(arr2[:,0])"
      ],
      "metadata": {
        "colab": {
          "base_uri": "https://localhost:8080/"
        },
        "id": "1PcfK2ustehw",
        "outputId": "44a9305f-fb7f-4ba4-84f5-12d1dae9c100"
      },
      "execution_count": null,
      "outputs": [
        {
          "output_type": "stream",
          "name": "stdout",
          "text": [
            "[1 2 3 8]\n",
            "3\n",
            "[1 2 3]\n",
            "[[1 2 3]\n",
            " [4 5 6]]\n",
            "6\n",
            "[1 2 3]\n",
            "[1 4]\n"
          ]
        }
      ]
    },
    {
      "cell_type": "code",
      "source": [
        "#l1 =[]\n",
        "#[l1.append(_) for _ in range(10)]\n",
        "\n",
        "#print(l1)\n",
        "\n",
        "\n",
        "l1 = np.arange(0,10)\n",
        "\n",
        "print(l1)\n",
        "\n",
        "l2 = np.arange(10,-0,-3)\n",
        "print(l2)"
      ],
      "metadata": {
        "colab": {
          "base_uri": "https://localhost:8080/"
        },
        "id": "cH1FwURYtepH",
        "outputId": "4dce9b09-011e-46cd-a9d7-7e946f1a1482"
      },
      "execution_count": null,
      "outputs": [
        {
          "output_type": "stream",
          "name": "stdout",
          "text": [
            "[0 1 2 3 4 5 6 7 8 9]\n",
            "[10  7  4  1]\n"
          ]
        }
      ]
    },
    {
      "cell_type": "code",
      "source": [
        "# Mathmatical operations\n",
        "\n",
        "a = np.array([1,2,3])\n",
        "b = np.array([4,5,6])\n",
        "\n",
        "print(f'The sum of a and b is {a+b}')\n",
        "print(f'The diff of a and b is {a-b}')\n",
        "print(f'The product of a and b is {a*b}')\n",
        "print(f'The division of a and b is {a/b}')"
      ],
      "metadata": {
        "colab": {
          "base_uri": "https://localhost:8080/"
        },
        "id": "ai4midV3tes9",
        "outputId": "fa3d21c1-a3a8-48fd-f376-cb69411e5400"
      },
      "execution_count": null,
      "outputs": [
        {
          "output_type": "stream",
          "name": "stdout",
          "text": [
            "The sum of a and b is [5 7 9]\n",
            "The diff of a and b is [-3 -3 -3]\n",
            "The product of a and b is [ 4 10 18]\n",
            "The division of a and b is [0.25 0.4  0.5 ]\n"
          ]
        }
      ]
    },
    {
      "cell_type": "code",
      "source": [
        "# Matrix multiplication\n",
        "b1 = np.array([[1,2,3],[4,5,6]])\n",
        "b2 = np.array([[5,6],[7,8],[1,3]])\n",
        "\n",
        "# Dot product  ---- product = AB -- A m x n -- B n x p\n",
        "c = np.dot(b1,b2)\n",
        "print(c)"
      ],
      "metadata": {
        "colab": {
          "base_uri": "https://localhost:8080/"
        },
        "id": "Y8FvjF_Vtev_",
        "outputId": "151d7c6d-99bb-4751-d8df-d0f7efffc19f"
      },
      "execution_count": null,
      "outputs": [
        {
          "output_type": "stream",
          "name": "stdout",
          "text": [
            "[[22 31]\n",
            " [61 82]]\n"
          ]
        }
      ]
    },
    {
      "cell_type": "code",
      "source": [
        "print(b1)"
      ],
      "metadata": {
        "colab": {
          "base_uri": "https://localhost:8080/"
        },
        "id": "oQ0IbtsetdIf",
        "outputId": "de9f4b58-5f3c-48b4-ad5e-122499421d99"
      },
      "execution_count": null,
      "outputs": [
        {
          "output_type": "stream",
          "name": "stdout",
          "text": [
            "[[1 2 3]\n",
            " [4 5 6]]\n"
          ]
        }
      ]
    },
    {
      "cell_type": "code",
      "source": [
        "print(b2)"
      ],
      "metadata": {
        "colab": {
          "base_uri": "https://localhost:8080/"
        },
        "id": "AqtWOgAetdQt",
        "outputId": "8b6e59ea-3b16-4007-de6d-a9fe93479ea9"
      },
      "execution_count": null,
      "outputs": [
        {
          "output_type": "stream",
          "name": "stdout",
          "text": [
            "[[5 6]\n",
            " [7 8]\n",
            " [1 3]]\n"
          ]
        }
      ]
    }
  ]
}